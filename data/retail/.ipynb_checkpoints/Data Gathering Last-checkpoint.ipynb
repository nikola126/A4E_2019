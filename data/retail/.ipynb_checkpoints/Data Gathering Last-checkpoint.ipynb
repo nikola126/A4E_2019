{
 "cells": [
  {
   "cell_type": "markdown",
   "metadata": {},
   "source": [
    "## Imports"
   ]
  },
  {
   "cell_type": "code",
   "execution_count": 1,
   "metadata": {},
   "outputs": [],
   "source": [
    "import numpy as np\n",
    "import pandas as pd\n",
    "import matplotlib.pyplot as plt"
   ]
  },
  {
   "cell_type": "markdown",
   "metadata": {},
   "source": [
    "## Reading Weather Data"
   ]
  },
  {
   "cell_type": "code",
   "execution_count": 2,
   "metadata": {},
   "outputs": [],
   "source": [
    "weather_header = ['maxtempC',\n",
    "  'mintempC',\n",
    "  'tempC',\n",
    "  'windspdKmph',\n",
    "  'winddir16',\n",
    "  'humidity',\n",
    "  'pressure',\n",
    "  'cloudcover',\n",
    "  'feelslikeC',\n",
    "  'workingday',\n",
    "  'bankholiday',\n",
    "  'workingsat']"
   ]
  },
  {
   "cell_type": "code",
   "execution_count": 3,
   "metadata": {},
   "outputs": [
    {
     "data": {
      "text/html": [
       "<div>\n",
       "<style scoped>\n",
       "    .dataframe tbody tr th:only-of-type {\n",
       "        vertical-align: middle;\n",
       "    }\n",
       "\n",
       "    .dataframe tbody tr th {\n",
       "        vertical-align: top;\n",
       "    }\n",
       "\n",
       "    .dataframe thead th {\n",
       "        text-align: right;\n",
       "    }\n",
       "</style>\n",
       "<table border=\"1\" class=\"dataframe\">\n",
       "  <thead>\n",
       "    <tr style=\"text-align: right;\">\n",
       "      <th></th>\n",
       "      <th>maxtempC</th>\n",
       "      <th>mintempC</th>\n",
       "      <th>tempC</th>\n",
       "      <th>windspdKmph</th>\n",
       "      <th>winddir16</th>\n",
       "      <th>humidity</th>\n",
       "      <th>pressure</th>\n",
       "      <th>cloudcover</th>\n",
       "      <th>feelslikeC</th>\n",
       "      <th>workingday</th>\n",
       "      <th>bankholiday</th>\n",
       "      <th>workingsat</th>\n",
       "    </tr>\n",
       "  </thead>\n",
       "  <tbody>\n",
       "    <tr>\n",
       "      <th>0</th>\n",
       "      <td>14</td>\n",
       "      <td>2</td>\n",
       "      <td>12</td>\n",
       "      <td>15</td>\n",
       "      <td>8</td>\n",
       "      <td>59</td>\n",
       "      <td>1003</td>\n",
       "      <td>41</td>\n",
       "      <td>13</td>\n",
       "      <td>1</td>\n",
       "      <td>0</td>\n",
       "      <td>0</td>\n",
       "    </tr>\n",
       "    <tr>\n",
       "      <th>1</th>\n",
       "      <td>6</td>\n",
       "      <td>0</td>\n",
       "      <td>7</td>\n",
       "      <td>19</td>\n",
       "      <td>10</td>\n",
       "      <td>53</td>\n",
       "      <td>1009</td>\n",
       "      <td>27</td>\n",
       "      <td>3</td>\n",
       "      <td>1</td>\n",
       "      <td>0</td>\n",
       "      <td>0</td>\n",
       "    </tr>\n",
       "    <tr>\n",
       "      <th>2</th>\n",
       "      <td>10</td>\n",
       "      <td>0</td>\n",
       "      <td>11</td>\n",
       "      <td>14</td>\n",
       "      <td>10</td>\n",
       "      <td>43</td>\n",
       "      <td>1012</td>\n",
       "      <td>14</td>\n",
       "      <td>10</td>\n",
       "      <td>1</td>\n",
       "      <td>0</td>\n",
       "      <td>0</td>\n",
       "    </tr>\n",
       "    <tr>\n",
       "      <th>3</th>\n",
       "      <td>15</td>\n",
       "      <td>0</td>\n",
       "      <td>15</td>\n",
       "      <td>10</td>\n",
       "      <td>6</td>\n",
       "      <td>40</td>\n",
       "      <td>1011</td>\n",
       "      <td>29</td>\n",
       "      <td>15</td>\n",
       "      <td>1</td>\n",
       "      <td>0</td>\n",
       "      <td>0</td>\n",
       "    </tr>\n",
       "    <tr>\n",
       "      <th>4</th>\n",
       "      <td>14</td>\n",
       "      <td>1</td>\n",
       "      <td>13</td>\n",
       "      <td>13</td>\n",
       "      <td>6</td>\n",
       "      <td>53</td>\n",
       "      <td>1008</td>\n",
       "      <td>28</td>\n",
       "      <td>13</td>\n",
       "      <td>1</td>\n",
       "      <td>0</td>\n",
       "      <td>0</td>\n",
       "    </tr>\n",
       "  </tbody>\n",
       "</table>\n",
       "</div>"
      ],
      "text/plain": [
       "   maxtempC  mintempC  tempC  windspdKmph  winddir16  humidity  pressure  \\\n",
       "0        14         2     12           15          8        59      1003   \n",
       "1         6         0      7           19         10        53      1009   \n",
       "2        10         0     11           14         10        43      1012   \n",
       "3        15         0     15           10          6        40      1011   \n",
       "4        14         1     13           13          6        53      1008   \n",
       "\n",
       "   cloudcover  feelslikeC  workingday  bankholiday  workingsat  \n",
       "0          41          13           1            0           0  \n",
       "1          27           3           1            0           0  \n",
       "2          14          10           1            0           0  \n",
       "3          29          15           1            0           0  \n",
       "4          28          13           1            0           0  "
      ]
     },
     "execution_count": 3,
     "metadata": {},
     "output_type": "execute_result"
    }
   ],
   "source": [
    "weather_data = pd.read_csv('U.csv',header = None, names = weather_header)\n",
    "weather_data.head()"
   ]
  },
  {
   "cell_type": "code",
   "execution_count": 4,
   "metadata": {},
   "outputs": [],
   "source": [
    "HUMIDITY = pd.DataFrame(weather_data,columns=['humidity'])\n",
    "CLOUDCOVER = pd.DataFrame(weather_data,columns=['cloudcover'])\n",
    "TEMPERATURE = pd.DataFrame(weather_data,columns=['tempC'])"
   ]
  },
  {
   "cell_type": "code",
   "execution_count": 5,
   "metadata": {},
   "outputs": [
    {
     "data": {
      "image/png": "[encoded data removed]",
      "text/plain": [
       "<Figure size 576x576 with 1 Axes>"
      ]
     },
     "metadata": {
      "needs_background": "light"
     },
     "output_type": "display_data"
    }
   ],
   "source": [
    "plt.figure(figsize=(8,8))\n",
    "\n",
    "plt.scatter(HUMIDITY, TEMPERATURE, color='red', linewidth = 1)\n",
    "plt.title('Humidity / Temperature')\n",
    "plt.xlabel('Humidity')\n",
    "plt.ylabel('Temperature')\n",
    "plt.show()"
   ]
  },
  {
   "cell_type": "code",
   "execution_count": 6,
   "metadata": {},
   "outputs": [
    {
     "data": {
      "image/png": "[encoded data removed]",
      "text/plain": [
       "<Figure size 288x288 with 1 Axes>"
      ]
     },
     "metadata": {
      "needs_background": "light"
     },
     "output_type": "display_data"
    },
    {
     "data": {
      "image/png": "[encoded data removed]",
      "text/plain": [
       "<Figure size 288x288 with 1 Axes>"
      ]
     },
     "metadata": {
      "needs_background": "light"
     },
     "output_type": "display_data"
    }
   ],
   "source": [
    "plt.figure(figsize=(4,4))\n",
    "\n",
    "plt.plot(HUMIDITY, linewidth = 1)\n",
    "plt.title('Humidity Over Time')\n",
    "plt.xlabel('Days')\n",
    "plt.ylabel('Humidity')\n",
    "plt.show()\n",
    "\n",
    "plt.figure(figsize=(4,4))\n",
    "\n",
    "plt.plot(TEMPERATURE, linewidth = 1)\n",
    "plt.title('Temperature Over Time')\n",
    "plt.xlabel('Days')\n",
    "plt.ylabel('Temperature')\n",
    "plt.show()"
   ]
  },
  {
   "cell_type": "markdown",
   "metadata": {},
   "source": [
    "## Difference Between Actual Temperature and Feels Like In Relation With Wind Speed"
   ]
  },
  {
   "cell_type": "code",
   "execution_count": 8,
   "metadata": {},
   "outputs": [
    {
     "data": {
      "text/html": [
       "<div>\n",
       "<style scoped>\n",
       "    .dataframe tbody tr th:only-of-type {\n",
       "        vertical-align: middle;\n",
       "    }\n",
       "\n",
       "    .dataframe tbody tr th {\n",
       "        vertical-align: top;\n",
       "    }\n",
       "\n",
       "    .dataframe thead th {\n",
       "        text-align: right;\n",
       "    }\n",
       "</style>\n",
       "<table border=\"1\" class=\"dataframe\">\n",
       "  <thead>\n",
       "    <tr style=\"text-align: right;\">\n",
       "      <th></th>\n",
       "      <th>maxtempC</th>\n",
       "      <th>mintempC</th>\n",
       "      <th>tempC</th>\n",
       "      <th>windspdKmph</th>\n",
       "      <th>winddir16</th>\n",
       "      <th>humidity</th>\n",
       "      <th>pressure</th>\n",
       "      <th>cloudcover</th>\n",
       "      <th>feelslikeC</th>\n",
       "      <th>workingday</th>\n",
       "      <th>bankholiday</th>\n",
       "      <th>workingsat</th>\n",
       "      <th>Temp_Difference</th>\n",
       "    </tr>\n",
       "  </thead>\n",
       "  <tbody>\n",
       "    <tr>\n",
       "      <th>0</th>\n",
       "      <td>14</td>\n",
       "      <td>2</td>\n",
       "      <td>12</td>\n",
       "      <td>15</td>\n",
       "      <td>8</td>\n",
       "      <td>59</td>\n",
       "      <td>1003</td>\n",
       "      <td>41</td>\n",
       "      <td>13</td>\n",
       "      <td>1</td>\n",
       "      <td>0</td>\n",
       "      <td>0</td>\n",
       "      <td>-20</td>\n",
       "    </tr>\n",
       "    <tr>\n",
       "      <th>1</th>\n",
       "      <td>6</td>\n",
       "      <td>0</td>\n",
       "      <td>7</td>\n",
       "      <td>19</td>\n",
       "      <td>10</td>\n",
       "      <td>53</td>\n",
       "      <td>1009</td>\n",
       "      <td>27</td>\n",
       "      <td>3</td>\n",
       "      <td>1</td>\n",
       "      <td>0</td>\n",
       "      <td>0</td>\n",
       "      <td>80</td>\n",
       "    </tr>\n",
       "    <tr>\n",
       "      <th>2</th>\n",
       "      <td>10</td>\n",
       "      <td>0</td>\n",
       "      <td>11</td>\n",
       "      <td>14</td>\n",
       "      <td>10</td>\n",
       "      <td>43</td>\n",
       "      <td>1012</td>\n",
       "      <td>14</td>\n",
       "      <td>10</td>\n",
       "      <td>1</td>\n",
       "      <td>0</td>\n",
       "      <td>0</td>\n",
       "      <td>20</td>\n",
       "    </tr>\n",
       "    <tr>\n",
       "      <th>3</th>\n",
       "      <td>15</td>\n",
       "      <td>0</td>\n",
       "      <td>15</td>\n",
       "      <td>10</td>\n",
       "      <td>6</td>\n",
       "      <td>40</td>\n",
       "      <td>1011</td>\n",
       "      <td>29</td>\n",
       "      <td>15</td>\n",
       "      <td>1</td>\n",
       "      <td>0</td>\n",
       "      <td>0</td>\n",
       "      <td>0</td>\n",
       "    </tr>\n",
       "    <tr>\n",
       "      <th>4</th>\n",
       "      <td>14</td>\n",
       "      <td>1</td>\n",
       "      <td>13</td>\n",
       "      <td>13</td>\n",
       "      <td>6</td>\n",
       "      <td>53</td>\n",
       "      <td>1008</td>\n",
       "      <td>28</td>\n",
       "      <td>13</td>\n",
       "      <td>1</td>\n",
       "      <td>0</td>\n",
       "      <td>0</td>\n",
       "      <td>0</td>\n",
       "    </tr>\n",
       "  </tbody>\n",
       "</table>\n",
       "</div>"
      ],
      "text/plain": [
       "   maxtempC  mintempC  tempC  windspdKmph  winddir16  humidity  pressure  \\\n",
       "0        14         2     12           15          8        59      1003   \n",
       "1         6         0      7           19         10        53      1009   \n",
       "2        10         0     11           14         10        43      1012   \n",
       "3        15         0     15           10          6        40      1011   \n",
       "4        14         1     13           13          6        53      1008   \n",
       "\n",
       "   cloudcover  feelslikeC  workingday  bankholiday  workingsat  \\\n",
       "0          41          13           1            0           0   \n",
       "1          27           3           1            0           0   \n",
       "2          14          10           1            0           0   \n",
       "3          29          15           1            0           0   \n",
       "4          28          13           1            0           0   \n",
       "\n",
       "   Temp_Difference  \n",
       "0              -20  \n",
       "1               80  \n",
       "2               20  \n",
       "3                0  \n",
       "4                0  "
      ]
     },
     "execution_count": 8,
     "metadata": {},
     "output_type": "execute_result"
    }
   ],
   "source": [
    "weather_data['Temp_Difference'] = (weather_data[:]['tempC'] - weather_data[:]['feelslikeC'])*20\n",
    "weather_data.head()"
   ]
  },
  {
   "cell_type": "code",
   "execution_count": null,
   "metadata": {},
   "outputs": [],
   "source": [
    "TEMP_DIFFERENCE = pd.DataFrame(weather_data,columns=['Temp_Difference'])\n",
    "WIND_SPEED = pd.DataFrame(weather_data,columns=['Temp_Difference'])"
   ]
  },
  {
   "cell_type": "code",
   "execution_count": null,
   "metadata": {},
   "outputs": [],
   "source": [
    "plt.figure(figsize=(8,8))\n",
    "\n",
    "plt.scatter(HUMIDITY, TEMPERATURE, color='red', linewidth = 1)\n",
    "plt.title('Humidity / Temperature')\n",
    "plt.xlabel('Humidity')\n",
    "plt.ylabel('Temperature')\n",
    "plt.show()"
   ]
  }
 ],
 "metadata": {
  "kernelspec": {
   "display_name": "Python 3",
   "language": "python",
   "name": "python3"
  },
  "language_info": {
   "codemirror_mode": {
    "name": "ipython",
    "version": 3
   },
   "file_extension": ".py",
   "mimetype": "text/x-python",
   "name": "python",
   "nbconvert_exporter": "python",
   "pygments_lexer": "ipython3",
   "version": "3.7.3"
  }
 },
 "nbformat": 4,
 "nbformat_minor": 2
}
